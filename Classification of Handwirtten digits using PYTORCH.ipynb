{
 "cells": [
  {
   "cell_type": "code",
   "execution_count": 1,
   "id": "19a8c8c9",
   "metadata": {},
   "outputs": [],
   "source": [
    "# importing necessary libraries\n",
    "import torch\n",
    "import torchvision\n",
    "import torch.nn as nn\n",
    "from torch.utils.data import DataLoader\n",
    "import torchvision.transforms as transforms\n",
    "import matplotlib.pyplot as plt"
   ]
  },
  {
   "cell_type": "code",
   "execution_count": 2,
   "id": "8f2951fe",
   "metadata": {},
   "outputs": [],
   "source": [
    "# hyper tuning\n",
    "\n",
    "batch_size=100\n",
    "\n",
    "\n",
    "train_dataset=torchvision.datasets.MNIST(root=\"./\",download=False,train=True, transform=transforms.ToTensor())\n",
    "\n",
    "test_dataset=torchvision.datasets.MNIST(root=\"./\",download=False,train=False, transform=transforms.ToTensor())\n",
    "\n",
    "\n",
    "\n",
    "\n",
    "train_loader=DataLoader(dataset=train_dataset,shuffle=True,batch_size=batch_size)\n",
    "test_loader=DataLoader(dataset=test_dataset,batch_size=batch_size)\n"
   ]
  },
  {
   "cell_type": "code",
   "execution_count": 3,
   "id": "44490674",
   "metadata": {},
   "outputs": [
    {
     "name": "stdout",
     "output_type": "stream",
     "text": [
      "torch.Size([100, 1, 28, 28]) torch.Size([100])\n"
     ]
    }
   ],
   "source": [
    "example=iter(train_loader)\n",
    "samples,labels=example.next()\n",
    "print(samples.shape,labels.shape)  "
   ]
  },
  {
   "cell_type": "code",
   "execution_count": 4,
   "id": "615b5170",
   "metadata": {},
   "outputs": [
    {
     "data": {
      "image/png": "[encoded data removed]",
      "text/plain": [
       "<Figure size 432x288 with 6 Axes>"
      ]
     },
     "metadata": {
      "needs_background": "light"
     },
     "output_type": "display_data"
    }
   ],
   "source": [
    "# samples images of handwritten digits\n",
    "for i in range(6):\n",
    "    plt.subplot(2,3,i+1)\n",
    "    plt.imshow(samples[i+10][0],cmap=\"gray\")\n",
    "plt.show()"
   ]
  },
  {
   "cell_type": "code",
   "execution_count": 5,
   "id": "60269bb8",
   "metadata": {},
   "outputs": [],
   "source": [
    "class Neural_net(nn.Module):\n",
    "    def __init__(self,input_size,hidden_size,output_size):\n",
    "        super(Neural_net,self).__init__()\n",
    "        self.fc1=nn.Linear(input_size,hidden_size)\n",
    "        self.relu=nn.ReLU()\n",
    "        self.fc2=nn.Linear(hidden_size,output_size)\n",
    "        \n",
    "        \n",
    "    def forward(self,x):\n",
    "        x=self.relu(self.fc1(x))\n",
    "        x=self.fc2(x)\n",
    "        return x \n",
    "    \n",
    "        "
   ]
  },
  {
   "cell_type": "code",
   "execution_count": 12,
   "id": "5f3b1904",
   "metadata": {},
   "outputs": [
    {
     "name": "stdout",
     "output_type": "stream",
     "text": [
      "EPOCH[100/1]  LOSS 0.3908576965332031\n",
      "EPOCH[200/1]  LOSS 0.16198016703128815\n",
      "EPOCH[300/1]  LOSS 0.14827096462249756\n",
      "EPOCH[400/1]  LOSS 0.11036311835050583\n",
      "EPOCH[500/1]  LOSS 0.221829354763031\n",
      "EPOCH[600/1]  LOSS 0.08653701841831207\n",
      "EPOCH[100/2]  LOSS 0.1698981523513794\n",
      "EPOCH[200/2]  LOSS 0.14314892888069153\n",
      "EPOCH[300/2]  LOSS 0.08775147795677185\n",
      "EPOCH[400/2]  LOSS 0.178132101893425\n",
      "EPOCH[500/2]  LOSS 0.24953345954418182\n",
      "EPOCH[600/2]  LOSS 0.08841719478368759\n"
     ]
    }
   ],
   "source": [
    "input_size=28*28*1   #input layer\n",
    "hidden_size=100  #hidden layer\n",
    "output_size=10    # output layer\n",
    "\n",
    "learning_rate=0.01\n",
    "num_epoch=2\n",
    "\n",
    "obj=Neural_net(input_size,hidden_size,output_size)\n",
    "\n",
    "criterion=nn.CrossEntropyLoss()     # log-loss \n",
    "\n",
    "optimiser=torch.optim.Adam(obj.parameters(),lr=learning_rate)\n",
    "\n",
    "for epoch in range(num_epoch):\n",
    "    for i,(images,labels) in enumerate(train_loader):\n",
    "        \n",
    "        images=images.reshape(-1,28*28)\n",
    "        labels=labels\n",
    "        \n",
    "        \n",
    "        output=obj.forward(images)\n",
    "\n",
    "        \n",
    "        loss=criterion(output,labels)\n",
    "        \n",
    "        optimiser.zero_grad()\n",
    "        \n",
    "        loss.backward()\n",
    "        optimiser.step()\n",
    "        \n",
    "        if (i+1)%100==0:\n",
    "            print(f\"EPOCH[{i+1}/{epoch+1}]  LOSS {loss.item()}\")"
   ]
  },
  {
   "cell_type": "code",
   "execution_count": 13,
   "id": "672244c7",
   "metadata": {},
   "outputs": [
    {
     "name": "stdout",
     "output_type": "stream",
     "text": [
      "THE ACCURACY IS   96.7\n"
     ]
    }
   ],
   "source": [
    "obj.eval()        #evaluating the model\n",
    "\n",
    "correct=0\n",
    "total=0\n",
    "\n",
    "for images,labels in test_loader:\n",
    "    \n",
    "    images=images.reshape(-1,28*28) #.to(device)\n",
    "    labels=labels  #.to(device)\n",
    "    \n",
    "    output=obj.forward(images)\n",
    "    \n",
    "    _,predict=torch.max(output,1)\n",
    "    \n",
    "    total+=labels.shape[0]\n",
    "    \n",
    "    correct+=(predict==labels).sum().item()\n",
    "    \n",
    "print(\"THE ACCURACY IS  \",correct*100/total)"
   ]
  },
  {
   "cell_type": "code",
   "execution_count": null,
   "id": "5759a4ce",
   "metadata": {},
   "outputs": [],
   "source": []
  },
  {
   "cell_type": "code",
   "execution_count": null,
   "id": "e44b0d06",
   "metadata": {},
   "outputs": [],
   "source": []
  },
  {
   "cell_type": "code",
   "execution_count": 25,
   "id": "c5f8a25f",
   "metadata": {},
   "outputs": [],
   "source": [
    "x_test=DataLoader(dataset=train_dataset,shuffle=True,batch_size=100)"
   ]
  },
  {
   "cell_type": "code",
   "execution_count": 38,
   "id": "0d4e2fdd",
   "metadata": {},
   "outputs": [],
   "source": [
    "test=iter(x_test)\n",
    "img,labels=test.next()"
   ]
  },
  {
   "cell_type": "code",
   "execution_count": 73,
   "id": "a7c57bfb",
   "metadata": {},
   "outputs": [],
   "source": [
    "def prediction(index):\n",
    "    \n",
    "    output=obj.forward(img[index].view(-1,28*28*1))\n",
    "    \n",
    "    _,predicted=torch.max(torch.softmax(output,1),1)\n",
    "    \n",
    "    \n",
    "    plt.imshow(img[index][0],cmap=\"gray\")\n",
    "    plt.title(f\"TRUTH IS     {labels[index]}\")\n",
    "    plt.xlabel(f\"PREDICTED  IS  {predicted.item()}\")\n",
    "#     plt.axis(\"off\")"
   ]
  },
  {
   "cell_type": "code",
   "execution_count": 74,
   "id": "02b7ddca",
   "metadata": {},
   "outputs": [
    {
     "data": {
      "image/png": "[encoded data removed]",
      "text/plain": [
       "<Figure size 432x288 with 1 Axes>"
      ]
     },
     "metadata": {
      "needs_background": "light"
     },
     "output_type": "display_data"
    }
   ],
   "source": [
    "prediction(0)"
   ]
  },
  {
   "cell_type": "code",
   "execution_count": 75,
   "id": "210913ae",
   "metadata": {},
   "outputs": [
    {
     "data": {
      "image/png": "[encoded data removed]",
      "text/plain": [
       "<Figure size 432x288 with 1 Axes>"
      ]
     },
     "metadata": {
      "needs_background": "light"
     },
     "output_type": "display_data"
    }
   ],
   "source": [
    "prediction(88)"
   ]
  },
  {
   "cell_type": "code",
   "execution_count": null,
   "id": "a47e0a04",
   "metadata": {},
   "outputs": [],
   "source": []
  },
  {
   "cell_type": "code",
   "execution_count": null,
   "id": "4e171abc",
   "metadata": {},
   "outputs": [],
   "source": []
  },
  {
   "cell_type": "code",
   "execution_count": null,
   "id": "8626c9a4",
   "metadata": {},
   "outputs": [],
   "source": []
  },
  {
   "cell_type": "code",
   "execution_count": null,
   "id": "3297a2ee",
   "metadata": {},
   "outputs": [],
   "source": []
  },
  {
   "cell_type": "code",
   "execution_count": null,
   "id": "bad24911",
   "metadata": {},
   "outputs": [],
   "source": []
  }
 ],
 "metadata": {
  "kernelspec": {
   "display_name": "pandas_venv",
   "language": "python",
   "name": "pandas_venv"
  },
  "language_info": {
   "codemirror_mode": {
    "name": "ipython",
    "version": 3
   },
   "file_extension": ".py",
   "mimetype": "text/x-python",
   "name": "python",
   "nbconvert_exporter": "python",
   "pygments_lexer": "ipython3",
   "version": "3.10.1"
  }
 },
 "nbformat": 4,
 "nbformat_minor": 5
}
