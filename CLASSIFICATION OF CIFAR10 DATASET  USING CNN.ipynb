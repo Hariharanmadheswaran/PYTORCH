{
 "cells": [
  {
   "cell_type": "code",
   "execution_count": 2,
   "id": "0a1ee382",
   "metadata": {},
   "outputs": [],
   "source": [
    "import torch\n",
    "import torchvision\n",
    "import torch.nn as nn\n",
    "import torch.nn.functional as F\n",
    "from torch.utils.data import DataLoader\n",
    "import torchvision.transforms as transforms\n",
    "import matplotlib.pyplot as plt\n",
    "import numpy as np"
   ]
  },
  {
   "cell_type": "code",
   "execution_count": 3,
   "id": "b2e0c2c4",
   "metadata": {},
   "outputs": [],
   "source": [
    "\n",
    "# hyper tuning\n",
    "\n",
    "batch_size=4\n",
    "learning_rate=0.01\n",
    "num_epoch=4\n",
    "\n",
    "\n",
    "\n",
    "transform=transforms.Compose([transforms.ToTensor(),transforms.Normalize((0.5,0.5,0.5),(0.5,0.5,0.5))])\n",
    "\n",
    "\n",
    "train_dataset=torchvision.datasets.CIFAR10(root=\"./\",download=False,train=True, transform=transform)\n",
    "\n",
    "test_dataset=torchvision.datasets.CIFAR10(root=\"./\",download=False,train=False, transform=transform)\n",
    "\n",
    "\n",
    "train_loader=DataLoader(dataset=train_dataset,shuffle=True,batch_size=batch_size)\n",
    "test_loader=DataLoader(dataset=test_dataset,batch_size=batch_size)\n"
   ]
  },
  {
   "cell_type": "code",
   "execution_count": 78,
   "id": "a3b05e43",
   "metadata": {},
   "outputs": [],
   "source": [
    "classes=[\"aiplane\",\"automobile\",\"bird\",\"cat\",\"deer\",\"dog\",\"frog\",\"horse\",\"ship\",\"truck\"]"
   ]
  },
  {
   "cell_type": "code",
   "execution_count": 79,
   "id": "72886e74",
   "metadata": {},
   "outputs": [
    {
     "data": {
      "image/png": "[encoded data removed]",
      "text/plain": [
       "<Figure size 432x288 with 3 Axes>"
      ]
     },
     "metadata": {
      "needs_background": "light"
     },
     "output_type": "display_data"
    }
   ],
   "source": [
    "example=iter(train_loader)\n",
    "\n",
    "img,label=example.next()\n",
    "\n",
    "for i in range(3):\n",
    "    plt.subplot(1,3,i+1)\n",
    "    plt.imshow(img[i][0])\n",
    "    plt.xlabel(classes[label[i]])\n",
    "plt.show()"
   ]
  },
  {
   "cell_type": "code",
   "execution_count": 4,
   "id": "e3080744",
   "metadata": {},
   "outputs": [],
   "source": [
    "class CNN(nn.Module):\n",
    "    def __init__(self):\n",
    "        super(CNN,self).__init__()\n",
    "        self.conv1=nn.Conv2d(3,6,5)\n",
    "        self.maxpool=nn.MaxPool2d(2,2)\n",
    "        self.conv2=nn.Conv2d(6,16,5)\n",
    "        self.fc1=nn.Linear(16*5*5,120)\n",
    "        self.fc2=nn.Linear(120,84)\n",
    "        self.fc3=nn.Linear(84,10) \n",
    "        self.relu=F.relu\n",
    "        \n",
    "    def forward(self,x):\n",
    "        x=self.maxpool(self.relu(self.conv1(x)))\n",
    "        x=self.maxpool(self.relu(self.conv2(x)))\n",
    "        x=x.view(-1,16*5*5)\n",
    "        x=F.relu(self.fc1(x))\n",
    "        x=F.relu(self.fc2(x))\n",
    "        x=self.fc3(x)\n",
    "        return x"
   ]
  },
  {
   "cell_type": "code",
   "execution_count": 5,
   "id": "6c3ea84b",
   "metadata": {},
   "outputs": [],
   "source": [
    "num_epoch=10"
   ]
  },
  {
   "cell_type": "code",
   "execution_count": 8,
   "id": "315cd76f",
   "metadata": {},
   "outputs": [
    {
     "name": "stdout",
     "output_type": "stream",
     "text": [
      "EPOCH[1/10]     LOSS 2.30511736869812\n",
      "EPOCH[2/10]     LOSS 1.9410134553909302\n",
      "EPOCH[3/10]     LOSS 0.6971940994262695\n",
      "EPOCH[4/10]     LOSS 0.5645690560340881\n",
      "EPOCH[5/10]     LOSS 0.4902132749557495\n",
      "EPOCH[6/10]     LOSS 2.155724048614502\n",
      "EPOCH[7/10]     LOSS 0.3579627275466919\n",
      "EPOCH[8/10]     LOSS 1.3607761859893799\n",
      "EPOCH[9/10]     LOSS 1.2596313953399658\n",
      "EPOCH[10/10]     LOSS 1.0908218622207642\n"
     ]
    }
   ],
   "source": [
    "obj=CNN()\n",
    "\n",
    "criterion=nn.CrossEntropyLoss()\n",
    "optimiser=torch.optim.SGD(obj.parameters(),lr=learning_rate)\n",
    "\n",
    "for epoch in range(num_epoch):\n",
    "    for i,(images,labels) in enumerate(train_loader):\n",
    "        \n",
    "        images=images\n",
    "        labels=labels\n",
    "        \n",
    "        \n",
    "        output=obj.forward(images)\n",
    "        \n",
    "        loss=criterion(output,labels)\n",
    "        \n",
    "        optimiser.zero_grad()\n",
    "        \n",
    "        loss.backward()\n",
    "        optimiser.step()\n",
    "        \n",
    "    \n",
    "    print(f\"EPOCH[{epoch+1}/{num_epoch}]     LOSS {loss.item()}\")"
   ]
  },
  {
   "cell_type": "code",
   "execution_count": 41,
   "id": "f86a8716",
   "metadata": {},
   "outputs": [
    {
     "name": "stdout",
     "output_type": "stream",
     "text": [
      "THE ACCURACY FOR LABEL  '0' IS  0.679%\n",
      "THE ACCURACY FOR LABEL  '1' IS  0.751%\n",
      "THE ACCURACY FOR LABEL  '2' IS  0.436%\n",
      "THE ACCURACY FOR LABEL  '3' IS  0.434%\n",
      "THE ACCURACY FOR LABEL  '4' IS  0.492%\n",
      "THE ACCURACY FOR LABEL  '5' IS  0.525%\n",
      "THE ACCURACY FOR LABEL  '6' IS  0.772%\n",
      "THE ACCURACY FOR LABEL  '7' IS  0.793%\n",
      "THE ACCURACY FOR LABEL  '8' IS  0.671%\n",
      "THE ACCURACY FOR LABEL  '9' IS  0.652%\n"
     ]
    }
   ],
   "source": [
    "obj.eval()\n",
    "\n",
    "prediction_array=[0]*10\n",
    "class_count=[0]*10\n",
    "total=0\n",
    "\n",
    "for images,labels in test_loader:\n",
    "    \n",
    "    images=images\n",
    "    labels=labels\n",
    "    \n",
    "    output=obj.forward(images)\n",
    "    \n",
    "    _,predict=torch.max(output,1)\n",
    "\n",
    "    \n",
    "    total+=labels.shape[0]\n",
    "    \n",
    "    for i in range(len(predict)):\n",
    "        if predict[i]==labels[i]:\n",
    "            prediction_array[labels[i]]+=1\n",
    "        class_count[labels[i]]+=1\n",
    "    \n",
    "for i in range(len(class_count)):\n",
    "    print(f\"THE ACCURACY FOR LABEL  '{i}' IS  {prediction_array[i]/class_count[i]}%\")\n"
   ]
  },
  {
   "cell_type": "code",
   "execution_count": 94,
   "id": "75c6fa6d",
   "metadata": {},
   "outputs": [],
   "source": [
    "\n",
    "test_case=DataLoader(dataset=test_dataset,batch_size=100)\n",
    "\n",
    "example=iter(test_case)\n",
    "\n",
    "img,label=example.next()\n",
    "\n",
    "def predictor(index):\n",
    "    output=obj.forward(img[index])\n",
    "    \n",
    "    _,predicted=torch.max(torch.softmax(output,1),1)\n",
    "\n",
    "    plt.imshow(img[index][0])\n",
    "    plt.title(f\"THE TRUTH IS    {classes[label[index]]}\")\n",
    "    plt.xlabel(f\"THE PREDICTION IS    {classes[predicted.item()]}\")\n",
    "    plt.show()"
   ]
  },
  {
   "cell_type": "code",
   "execution_count": 95,
   "id": "800fe1d6",
   "metadata": {},
   "outputs": [
    {
     "data": {
      "image/png": "[encoded data removed]",
      "text/plain": [
       "<Figure size 432x288 with 1 Axes>"
      ]
     },
     "metadata": {
      "needs_background": "light"
     },
     "output_type": "display_data"
    }
   ],
   "source": [
    "predictor(0)"
   ]
  },
  {
   "cell_type": "code",
   "execution_count": 96,
   "id": "f97a2e14",
   "metadata": {},
   "outputs": [
    {
     "data": {
      "image/png": "[encoded data removed]",
      "text/plain": [
       "<Figure size 432x288 with 1 Axes>"
      ]
     },
     "metadata": {
      "needs_background": "light"
     },
     "output_type": "display_data"
    }
   ],
   "source": [
    "predictor(56)"
   ]
  },
  {
   "cell_type": "code",
   "execution_count": 97,
   "id": "1090668c",
   "metadata": {},
   "outputs": [
    {
     "data": {
      "image/png": "[encoded data removed]",
      "text/plain": [
       "<Figure size 432x288 with 1 Axes>"
      ]
     },
     "metadata": {
      "needs_background": "light"
     },
     "output_type": "display_data"
    }
   ],
   "source": [
    "predictor(13)"
   ]
  }
 ],
 "metadata": {
  "kernelspec": {
   "display_name": "pandas_venv",
   "language": "python",
   "name": "pandas_venv"
  },
  "language_info": {
   "codemirror_mode": {
    "name": "ipython",
    "version": 3
   },
   "file_extension": ".py",
   "mimetype": "text/x-python",
   "name": "python",
   "nbconvert_exporter": "python",
   "pygments_lexer": "ipython3",
   "version": "3.10.1"
  }
 },
 "nbformat": 4,
 "nbformat_minor": 5
}
